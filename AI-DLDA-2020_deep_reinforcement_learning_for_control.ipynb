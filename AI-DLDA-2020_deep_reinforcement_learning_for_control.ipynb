{
  "nbformat": 4,
  "nbformat_minor": 0,
  "metadata": {
    "colab": {
      "name": "aidlda_deep_reinforcement_learning_for_control.ipynb",
      "provenance": [],
      "collapsed_sections": []
    },
    "kernelspec": {
      "name": "python3",
      "display_name": "Python 3"
    }
  },
  "cells": [
    {
      "cell_type": "markdown",
      "metadata": {
        "id": "hxyxoXxNykx8",
        "colab_type": "text"
      },
      "source": [
        "#Deep Reinforcement Learning for Control\n",
        "\n",
        "## Lab Session\n",
        "\n",
        "### 3rd International Summer School on Artificial Intelligience AI-DLDA 2020\n",
        "\n",
        "\n",
        "\n",
        "\n",
        "\n",
        "Notebook written by Matteo Dunnhofer `matteo.dunnhofer@uniud.it`\n",
        "\n",
        "Machine Learning and Perception Lab\n",
        "\n",
        "University of Udine"
      ]
    },
    {
      "cell_type": "markdown",
      "metadata": {
        "id": "toPmU8ezywR2",
        "colab_type": "text"
      },
      "source": [
        "In this notebook we see how to solve a toy control problem with **reinforcement learning** (RL) techniques."
      ]
    },
    {
      "cell_type": "markdown",
      "metadata": {
        "id": "u1gty_LkgM1N",
        "colab_type": "text"
      },
      "source": [
        "## Problem\n",
        "\n",
        "![alt text](https://raw.githubusercontent.com/cpow-89/Extended-Deep-Q-Learning-For-Open-AI-Gym-Environments/master/images/Lunar_Lander_v2.gif)\n",
        "\n",
        "The **goal** is to control a lunar module to land on the moon, without having access to any ground-truth or prior information. \n",
        "\n",
        "To solve this problem, we will train an **artificial agent** to by trial-and-error. The agent will control the module and learn by the experience acquired through the **interaction** between the module and the lunar environment. The interaction will happen through the **observation** of some features of the lander module, the subsequent execution of **actions**, and the **rewarding** of the latter based on their quality. The agent will be implemented as a **neural network** and the state-of-the-art **Soft Actor-Critic** (SAC) algorithm will be employed to optimize the network weights. \n",
        "\n",
        "We will use the most popular tools in the RL landscape to implement and solve this problem."
      ]
    },
    {
      "cell_type": "markdown",
      "metadata": {
        "id": "TSVDIJcGirJN",
        "colab_type": "text"
      },
      "source": [
        "## Utilities\n"
      ]
    },
    {
      "cell_type": "markdown",
      "metadata": {
        "id": "nIi2wSMYerEm",
        "colab_type": "text"
      },
      "source": [
        "Let's start by fixing the seed for the random number generators."
      ]
    },
    {
      "cell_type": "code",
      "metadata": {
        "id": "BrKER7tnPB47",
        "colab_type": "code",
        "colab": {}
      },
      "source": [
        "# Fix the seed for random number generators\n",
        "SEED = 123"
      ],
      "execution_count": 1,
      "outputs": []
    },
    {
      "cell_type": "markdown",
      "metadata": {
        "id": "NNepi_lt9nsF",
        "colab_type": "text"
      },
      "source": [
        "The following cells implement utilities to visualize graphically (as a video) the interaction between the agent and the environment. You do not need this part if you run the notebook as a script."
      ]
    },
    {
      "cell_type": "code",
      "metadata": {
        "id": "dTfyw8373oEH",
        "colab_type": "code",
        "colab": {}
      },
      "source": [
        "!pip install pyvirtualdisplay > /dev/null 2>&1\n",
        "!apt-get install x11-utils > /dev/null 2>&1\n",
        "!apt-get install -y xvfb python-opengl ffmpeg > /dev/null 2>&1"
      ],
      "execution_count": 2,
      "outputs": []
    },
    {
      "cell_type": "code",
      "metadata": {
        "id": "Y7BZ_YCU3ojF",
        "colab_type": "code",
        "colab": {}
      },
      "source": [
        "from gym import logger as gymlogger\n",
        "from gym.wrappers import Monitor\n",
        "gymlogger.set_level(40) #error only\n",
        "import glob\n",
        "import io\n",
        "import os\n",
        "import base64\n",
        "from IPython.display import HTML\n",
        "from IPython import display as ipythondisplay\n",
        "import time"
      ],
      "execution_count": 3,
      "outputs": []
    },
    {
      "cell_type": "code",
      "metadata": {
        "id": "LsyHMI673o-t",
        "colab_type": "code",
        "colab": {
          "base_uri": "https://localhost:8080/",
          "height": 34
        },
        "outputId": "334b9cb7-ef4a-4c4a-c8f6-8f25182b0b25"
      },
      "source": [
        "from pyvirtualdisplay import Display\n",
        "display = Display(visible=0, size=(1400, 900))\n",
        "display.start()"
      ],
      "execution_count": 4,
      "outputs": [
        {
          "output_type": "execute_result",
          "data": {
            "text/plain": [
              "<pyvirtualdisplay.display.Display at 0x7fafd42dd4a8>"
            ]
          },
          "metadata": {
            "tags": []
          },
          "execution_count": 4
        }
      ]
    },
    {
      "cell_type": "code",
      "metadata": {
        "id": "6kTcD1TzFDM3",
        "colab_type": "code",
        "colab": {}
      },
      "source": [
        "\"\"\"\n",
        "Utility functions to enable video recording of gym environment and displaying it\n",
        "To enable video, just do \"env = wrap_env(env)\"\"\n",
        "\"\"\"\n",
        "def show_video():\n",
        "    mp4list = glob.glob('videos/*/*.mp4')\n",
        "    mp4list.sort(key=os.path.getmtime)\n",
        "    if len(mp4list) > 0:\n",
        "        mp4 = mp4list[-1]\n",
        "        video = io.open(mp4, 'rb').read()\n",
        "        encoded = base64.b64encode(video)\n",
        "        ipythondisplay.display(HTML(data='''<video alt=\"test\" autoplay \n",
        "                    loop controls style=\"height: 400px;\">\n",
        "                    <source src=\"data:video/mp4;base64,{0}\" type=\"video/mp4\" />\n",
        "                </video>'''.format(encoded.decode('ascii'))))\n",
        "    else: \n",
        "        print(\"Could not find video\")\n",
        "    \n",
        "\n",
        "def wrap_env(env):\n",
        "    env = Monitor(env, './videos/' + str(time.time()) + '/')  # Monitor objects are used to save interactions as videos\n",
        "    return env"
      ],
      "execution_count": 5,
      "outputs": []
    },
    {
      "cell_type": "markdown",
      "metadata": {
        "id": "uBCVgMue0VcP",
        "colab_type": "text"
      },
      "source": [
        "## Environment\n",
        "\n",
        "Let's define the environment that the agent will interact with to pursue its goals. We will take advantage of OpenAi's [``gym``](https://gym.openai.com) which provides a large number of predefined environments for RL experiments.\n",
        "\n",
        "In particular, we will use the ``LunarLanderContinuous-v2`` environment. This env provides 8 features as **states** (position of the lander, velocity, angles, terrain contact sensors) and requires a continuous action space of 2 **actions** (amount of fire for left/right engine, amount of fire for main engine). **Rewards** are given based on the quality of the descent and the landing position, and on the usage of the fuel. Interactions end if the lander crashes or when it lands succesfully."
      ]
    },
    {
      "cell_type": "markdown",
      "metadata": {
        "id": "wmB3a1pGqEAs",
        "colab_type": "text"
      },
      "source": [
        "Let's install `gym`."
      ]
    },
    {
      "cell_type": "code",
      "metadata": {
        "id": "d0g8fVIASu1k",
        "colab_type": "code",
        "colab": {}
      },
      "source": [
        "# Install packages related to gym and gym, necessary for LunarLanderContinuous-v2\n",
        "!pip install box2d-py > /dev/null 2>&1\n",
        "!pip install gym > /dev/null 2>&1\n",
        "!pip install gym[Box_2D] > /dev/null 2>&1"
      ],
      "execution_count": 6,
      "outputs": []
    },
    {
      "cell_type": "markdown",
      "metadata": {
        "id": "kVVGZo-UqIsh",
        "colab_type": "text"
      },
      "source": [
        "And now let's instantiate the environment."
      ]
    },
    {
      "cell_type": "code",
      "metadata": {
        "id": "jc1tOYD-Aywj",
        "colab_type": "code",
        "colab": {
          "base_uri": "https://localhost:8080/",
          "height": 51
        },
        "outputId": "74ec569b-a6e3-4a7d-d56f-9428d0666c71"
      },
      "source": [
        "import gym\n",
        "\n",
        "# Create the environment 'LunarLanderContinuous-v2'\n",
        "env = gym.make('LunarLanderContinuous-v2')\n",
        "env.seed(SEED)\n",
        "\n",
        "# Print the observation and action spaces of the env\n",
        "print('State space: {}'.format(env.observation_space))\n",
        "print('Action space: {} - low: {} high: {}'.format(env.action_space, env.action_space.low[0], env.action_space.high[0]))"
      ],
      "execution_count": 7,
      "outputs": [
        {
          "output_type": "stream",
          "text": [
            "State space: Box(8,)\n",
            "Action space: Box(2,) - low: -1.0 high: 1.0\n"
          ],
          "name": "stdout"
        }
      ]
    },
    {
      "cell_type": "markdown",
      "metadata": {
        "id": "ceNu6T6Xl6o4",
        "colab_type": "text"
      },
      "source": [
        "We can look into the environment definition [here](https://github.com/openai/gym/blob/master/gym/envs/box2d/lunar_lander.py)."
      ]
    },
    {
      "cell_type": "markdown",
      "metadata": {
        "id": "PDm2APXyCZs4",
        "colab_type": "text"
      },
      "source": [
        "## Agent\n",
        "\n",
        "Let's move now to the agent definition! The agent will be the controller of the lander, it will contain the policy, and it will be responsible for its learning and execution.\n",
        "\n",
        "Again, we will take advantage of an OpenAI's library, this time [Spinning Up in Deep RL!](https://spinningup.openai.com/en/latest/)\n",
        "\n",
        "It's an excellent resource to start working with RL, and\n",
        "it includes basic and advanced RL algorithms implementations, with very detailed explanations. \n",
        "Algorithms and models are implemented by means of both PyTorch and TensorFlow frameworks. In our case, we will use the PyTorch version.\n",
        "\n",
        "Let's install it."
      ]
    },
    {
      "cell_type": "code",
      "metadata": {
        "id": "jVbFgODEnKPh",
        "colab_type": "code",
        "colab": {
          "base_uri": "https://localhost:8080/",
          "height": 1000
        },
        "outputId": "f89caa67-145d-4501-f1ae-311fb9a1850d"
      },
      "source": [
        "!git clone https://github.com/openai/spinningup.git > /dev/null 2>&1\n",
        "!pip install -e spinningup > /dev/null 2>&1"
      ],
      "execution_count": null,
      "outputs": [
        {
          "output_type": "stream",
          "text": [
            "Cloning into 'spinningup'...\n",
            "remote: Enumerating objects: 1263, done.\u001b[K\n",
            "remote: Total 1263 (delta 0), reused 0 (delta 0), pack-reused 1263\u001b[K\n",
            "Receiving objects: 100% (1263/1263), 31.02 MiB | 25.72 MiB/s, done.\n",
            "Resolving deltas: 100% (590/590), done.\n",
            "Obtaining file:///content/spinningup\n",
            "Collecting cloudpickle==1.2.1\n",
            "  Downloading https://files.pythonhosted.org/packages/09/f4/4a080c349c1680a2086196fcf0286a65931708156f39568ed7051e42ff6a/cloudpickle-1.2.1-py2.py3-none-any.whl\n",
            "Collecting gym[atari,box2d,classic_control]~=0.15.3\n",
            "\u001b[?25l  Downloading https://files.pythonhosted.org/packages/e0/01/8771e8f914a627022296dab694092a11a7d417b6c8364f0a44a8debca734/gym-0.15.7.tar.gz (1.6MB)\n",
            "\u001b[K     |████████████████████████████████| 1.6MB 6.5MB/s \n",
            "\u001b[?25hRequirement already satisfied: ipython in /usr/local/lib/python3.6/dist-packages (from spinup==0.2.0) (5.5.0)\n",
            "Requirement already satisfied: joblib in /usr/local/lib/python3.6/dist-packages (from spinup==0.2.0) (0.15.1)\n",
            "Collecting matplotlib==3.1.1\n",
            "\u001b[?25l  Downloading https://files.pythonhosted.org/packages/57/4f/dd381ecf6c6ab9bcdaa8ea912e866dedc6e696756156d8ecc087e20817e2/matplotlib-3.1.1-cp36-cp36m-manylinux1_x86_64.whl (13.1MB)\n",
            "\u001b[K     |████████████████████████████████| 13.1MB 153kB/s \n",
            "\u001b[?25hCollecting mpi4py\n",
            "\u001b[?25l  Downloading https://files.pythonhosted.org/packages/ec/8f/bbd8de5ba566dd77e408d8136e2bab7fdf2b97ce06cab830ba8b50a2f588/mpi4py-3.0.3.tar.gz (1.4MB)\n",
            "\u001b[K     |████████████████████████████████| 1.4MB 45.7MB/s \n",
            "\u001b[?25hRequirement already satisfied: numpy in /usr/local/lib/python3.6/dist-packages (from spinup==0.2.0) (1.18.5)\n",
            "Requirement already satisfied: pandas in /usr/local/lib/python3.6/dist-packages (from spinup==0.2.0) (1.0.5)\n",
            "Requirement already satisfied: pytest in /usr/local/lib/python3.6/dist-packages (from spinup==0.2.0) (3.6.4)\n",
            "Requirement already satisfied: psutil in /usr/local/lib/python3.6/dist-packages (from spinup==0.2.0) (5.4.8)\n",
            "Requirement already satisfied: scipy in /usr/local/lib/python3.6/dist-packages (from spinup==0.2.0) (1.4.1)\n",
            "Collecting seaborn==0.8.1\n",
            "\u001b[?25l  Downloading https://files.pythonhosted.org/packages/10/01/dd1c7838cde3b69b247aaeb61016e238cafd8188a276e366d36aa6bcdab4/seaborn-0.8.1.tar.gz (178kB)\n",
            "\u001b[K     |████████████████████████████████| 184kB 40.3MB/s \n",
            "\u001b[?25hCollecting tensorflow<2.0,>=1.8.0\n",
            "\u001b[?25l  Downloading https://files.pythonhosted.org/packages/02/36/9a02e27f0ec248b676a380ffe910c1858e3af3027c0d4d513dd0b56a5613/tensorflow-1.15.3-cp36-cp36m-manylinux2010_x86_64.whl (110.5MB)\n",
            "\u001b[K     |████████████████████████████████| 110.5MB 36kB/s \n",
            "\u001b[?25hCollecting torch==1.3.1\n",
            "\u001b[?25l  Downloading https://files.pythonhosted.org/packages/88/95/90e8c4c31cfc67248bf944ba42029295b77159982f532c5689bcfe4e9108/torch-1.3.1-cp36-cp36m-manylinux1_x86_64.whl (734.6MB)\n",
            "\u001b[K     |████████████████████████████████| 734.6MB 19kB/s \n",
            "\u001b[?25hRequirement already satisfied: tqdm in /usr/local/lib/python3.6/dist-packages (from spinup==0.2.0) (4.41.1)\n",
            "Requirement already satisfied: six in /usr/local/lib/python3.6/dist-packages (from gym[atari,box2d,classic_control]~=0.15.3->spinup==0.2.0) (1.12.0)\n",
            "Requirement already satisfied: pyglet<=1.5.0,>=1.4.0 in /usr/local/lib/python3.6/dist-packages (from gym[atari,box2d,classic_control]~=0.15.3->spinup==0.2.0) (1.5.0)\n",
            "Requirement already satisfied: atari_py~=0.2.0 in /usr/local/lib/python3.6/dist-packages (from gym[atari,box2d,classic_control]~=0.15.3->spinup==0.2.0) (0.2.6)\n",
            "Requirement already satisfied: Pillow in /usr/local/lib/python3.6/dist-packages (from gym[atari,box2d,classic_control]~=0.15.3->spinup==0.2.0) (7.0.0)\n",
            "Requirement already satisfied: opencv-python in /usr/local/lib/python3.6/dist-packages (from gym[atari,box2d,classic_control]~=0.15.3->spinup==0.2.0) (4.1.2.30)\n",
            "Requirement already satisfied: box2d-py~=2.3.5 in /usr/local/lib/python3.6/dist-packages (from gym[atari,box2d,classic_control]~=0.15.3->spinup==0.2.0) (2.3.8)\n",
            "Requirement already satisfied: pygments in /usr/local/lib/python3.6/dist-packages (from ipython->spinup==0.2.0) (2.1.3)\n",
            "Requirement already satisfied: decorator in /usr/local/lib/python3.6/dist-packages (from ipython->spinup==0.2.0) (4.4.2)\n",
            "Requirement already satisfied: traitlets>=4.2 in /usr/local/lib/python3.6/dist-packages (from ipython->spinup==0.2.0) (4.3.3)\n",
            "Requirement already satisfied: prompt-toolkit<2.0.0,>=1.0.4 in /usr/local/lib/python3.6/dist-packages (from ipython->spinup==0.2.0) (1.0.18)\n",
            "Requirement already satisfied: setuptools>=18.5 in /usr/local/lib/python3.6/dist-packages (from ipython->spinup==0.2.0) (47.3.1)\n",
            "Requirement already satisfied: pickleshare in /usr/local/lib/python3.6/dist-packages (from ipython->spinup==0.2.0) (0.7.5)\n",
            "Requirement already satisfied: pexpect; sys_platform != \"win32\" in /usr/local/lib/python3.6/dist-packages (from ipython->spinup==0.2.0) (4.8.0)\n",
            "Requirement already satisfied: simplegeneric>0.8 in /usr/local/lib/python3.6/dist-packages (from ipython->spinup==0.2.0) (0.8.1)\n",
            "Requirement already satisfied: pyparsing!=2.0.4,!=2.1.2,!=2.1.6,>=2.0.1 in /usr/local/lib/python3.6/dist-packages (from matplotlib==3.1.1->spinup==0.2.0) (2.4.7)\n",
            "Requirement already satisfied: python-dateutil>=2.1 in /usr/local/lib/python3.6/dist-packages (from matplotlib==3.1.1->spinup==0.2.0) (2.8.1)\n",
            "Requirement already satisfied: kiwisolver>=1.0.1 in /usr/local/lib/python3.6/dist-packages (from matplotlib==3.1.1->spinup==0.2.0) (1.2.0)\n",
            "Requirement already satisfied: cycler>=0.10 in /usr/local/lib/python3.6/dist-packages (from matplotlib==3.1.1->spinup==0.2.0) (0.10.0)\n",
            "Requirement already satisfied: pytz>=2017.2 in /usr/local/lib/python3.6/dist-packages (from pandas->spinup==0.2.0) (2018.9)\n",
            "Requirement already satisfied: atomicwrites>=1.0 in /usr/local/lib/python3.6/dist-packages (from pytest->spinup==0.2.0) (1.4.0)\n",
            "Requirement already satisfied: py>=1.5.0 in /usr/local/lib/python3.6/dist-packages (from pytest->spinup==0.2.0) (1.8.2)\n",
            "Requirement already satisfied: pluggy<0.8,>=0.5 in /usr/local/lib/python3.6/dist-packages (from pytest->spinup==0.2.0) (0.7.1)\n",
            "Requirement already satisfied: attrs>=17.4.0 in /usr/local/lib/python3.6/dist-packages (from pytest->spinup==0.2.0) (19.3.0)\n",
            "Requirement already satisfied: more-itertools>=4.0.0 in /usr/local/lib/python3.6/dist-packages (from pytest->spinup==0.2.0) (8.4.0)\n",
            "Requirement already satisfied: keras-applications>=1.0.8 in /usr/local/lib/python3.6/dist-packages (from tensorflow<2.0,>=1.8.0->spinup==0.2.0) (1.0.8)\n",
            "Requirement already satisfied: wheel>=0.26; python_version >= \"3\" in /usr/local/lib/python3.6/dist-packages (from tensorflow<2.0,>=1.8.0->spinup==0.2.0) (0.34.2)\n",
            "Collecting gast==0.2.2\n",
            "  Downloading https://files.pythonhosted.org/packages/4e/35/11749bf99b2d4e3cceb4d55ca22590b0d7c2c62b9de38ac4a4a7f4687421/gast-0.2.2.tar.gz\n",
            "Requirement already satisfied: opt-einsum>=2.3.2 in /usr/local/lib/python3.6/dist-packages (from tensorflow<2.0,>=1.8.0->spinup==0.2.0) (3.2.1)\n",
            "Collecting tensorflow-estimator==1.15.1\n",
            "\u001b[?25l  Downloading https://files.pythonhosted.org/packages/de/62/2ee9cd74c9fa2fa450877847ba560b260f5d0fb70ee0595203082dafcc9d/tensorflow_estimator-1.15.1-py2.py3-none-any.whl (503kB)\n",
            "\u001b[K     |████████████████████████████████| 512kB 42.3MB/s \n",
            "\u001b[?25hRequirement already satisfied: google-pasta>=0.1.6 in /usr/local/lib/python3.6/dist-packages (from tensorflow<2.0,>=1.8.0->spinup==0.2.0) (0.2.0)\n",
            "Requirement already satisfied: wrapt>=1.11.1 in /usr/local/lib/python3.6/dist-packages (from tensorflow<2.0,>=1.8.0->spinup==0.2.0) (1.12.1)\n",
            "Requirement already satisfied: astor>=0.6.0 in /usr/local/lib/python3.6/dist-packages (from tensorflow<2.0,>=1.8.0->spinup==0.2.0) (0.8.1)\n",
            "Requirement already satisfied: termcolor>=1.1.0 in /usr/local/lib/python3.6/dist-packages (from tensorflow<2.0,>=1.8.0->spinup==0.2.0) (1.1.0)\n",
            "Requirement already satisfied: absl-py>=0.7.0 in /usr/local/lib/python3.6/dist-packages (from tensorflow<2.0,>=1.8.0->spinup==0.2.0) (0.9.0)\n",
            "Requirement already satisfied: protobuf>=3.6.1 in /usr/local/lib/python3.6/dist-packages (from tensorflow<2.0,>=1.8.0->spinup==0.2.0) (3.10.0)\n",
            "Collecting tensorboard<1.16.0,>=1.15.0\n",
            "\u001b[?25l  Downloading https://files.pythonhosted.org/packages/1e/e9/d3d747a97f7188f48aa5eda486907f3b345cd409f0a0850468ba867db246/tensorboard-1.15.0-py3-none-any.whl (3.8MB)\n",
            "\u001b[K     |████████████████████████████████| 3.8MB 21.3MB/s \n",
            "\u001b[?25hRequirement already satisfied: grpcio>=1.8.6 in /usr/local/lib/python3.6/dist-packages (from tensorflow<2.0,>=1.8.0->spinup==0.2.0) (1.30.0)\n",
            "Requirement already satisfied: keras-preprocessing>=1.0.5 in /usr/local/lib/python3.6/dist-packages (from tensorflow<2.0,>=1.8.0->spinup==0.2.0) (1.1.2)\n",
            "Requirement already satisfied: future in /usr/local/lib/python3.6/dist-packages (from pyglet<=1.5.0,>=1.4.0->gym[atari,box2d,classic_control]~=0.15.3->spinup==0.2.0) (0.16.0)\n",
            "Requirement already satisfied: ipython-genutils in /usr/local/lib/python3.6/dist-packages (from traitlets>=4.2->ipython->spinup==0.2.0) (0.2.0)\n",
            "Requirement already satisfied: wcwidth in /usr/local/lib/python3.6/dist-packages (from prompt-toolkit<2.0.0,>=1.0.4->ipython->spinup==0.2.0) (0.2.5)\n",
            "Requirement already satisfied: ptyprocess>=0.5 in /usr/local/lib/python3.6/dist-packages (from pexpect; sys_platform != \"win32\"->ipython->spinup==0.2.0) (0.6.0)\n",
            "Requirement already satisfied: h5py in /usr/local/lib/python3.6/dist-packages (from keras-applications>=1.0.8->tensorflow<2.0,>=1.8.0->spinup==0.2.0) (2.10.0)\n",
            "Requirement already satisfied: markdown>=2.6.8 in /usr/local/lib/python3.6/dist-packages (from tensorboard<1.16.0,>=1.15.0->tensorflow<2.0,>=1.8.0->spinup==0.2.0) (3.2.2)\n",
            "Requirement already satisfied: werkzeug>=0.11.15 in /usr/local/lib/python3.6/dist-packages (from tensorboard<1.16.0,>=1.15.0->tensorflow<2.0,>=1.8.0->spinup==0.2.0) (1.0.1)\n",
            "Requirement already satisfied: importlib-metadata; python_version < \"3.8\" in /usr/local/lib/python3.6/dist-packages (from markdown>=2.6.8->tensorboard<1.16.0,>=1.15.0->tensorflow<2.0,>=1.8.0->spinup==0.2.0) (1.6.1)\n",
            "Requirement already satisfied: zipp>=0.5 in /usr/local/lib/python3.6/dist-packages (from importlib-metadata; python_version < \"3.8\"->markdown>=2.6.8->tensorboard<1.16.0,>=1.15.0->tensorflow<2.0,>=1.8.0->spinup==0.2.0) (3.1.0)\n",
            "Building wheels for collected packages: gym, mpi4py, seaborn, gast\n",
            "  Building wheel for gym (setup.py) ... \u001b[?25l\u001b[?25hdone\n",
            "  Created wheel for gym: filename=gym-0.15.7-cp36-none-any.whl size=1648840 sha256=8a897bbf4c28cf5ba111866ab6324dab6fc9a5860233dd4fabae34a1e7fae9dd\n",
            "  Stored in directory: /root/.cache/pip/wheels/35/60/6a/f9c27ae133abaf5a5687ed2fa8ed19627d7fac5d843a27572b\n"
          ],
          "name": "stdout"
        }
      ]
    },
    {
      "cell_type": "markdown",
      "metadata": {
        "id": "FIEGyhtbUez3",
        "colab_type": "text"
      },
      "source": [
        "Let's see how to exploit the library to define our agent.\n",
        "As we are going to use the SAC algorithm, we need to implement an object that fits the `actor_critic` parameter required by the [`spinup.sac_pytorch()`](https://spinningup.openai.com/en/latest/algorithms/sac.html#documentation-pytorch-version) function (which implements the SAC learning).\n",
        "\n",
        "We can do this by defining a custom `torch.nn.Module` that respects such requirements, or just use the `MLPActorCritic` implementation given by OpenAI.\n",
        "\n"
      ]
    },
    {
      "cell_type": "code",
      "metadata": {
        "id": "719OxpnImeRK",
        "colab_type": "code",
        "colab": {}
      },
      "source": [
        "from spinup.algos.pytorch.sac.core import MLPActorCritic\n",
        "\n",
        "# Instantiate the agent as an actor-critic agent composed of multi-layer perceptrons\n",
        "agent = MLPActorCritic(env.observation_space, env.action_space)\n",
        "\n",
        "print(agent)"
      ],
      "execution_count": null,
      "outputs": []
    },
    {
      "cell_type": "markdown",
      "metadata": {
        "id": "cDyBpexJY2Mf",
        "colab_type": "text"
      },
      "source": [
        "This is just a `torch.nn.Module` that contains an MLP for the stochastic policy `pi` (the actor), and two MLPs for the Q-value functions `q1` and `q2` (the critics). We can have a look to the detailed implementation [here](https://github.com/openai/spinningup/blob/master/spinup/algos/pytorch/sac/core.py)."
      ]
    },
    {
      "cell_type": "markdown",
      "metadata": {
        "id": "P-pB1h1c55Yh",
        "colab_type": "text"
      },
      "source": [
        "## Interaction\n",
        "\n",
        "Let's move to the implementatioon of the finite-horizon interaction procedure that must happen between agent and environment.\n",
        "This is done by means of the ``run_episode`` function. Following the [general structure of `gym`'s environments](https://gym.openai.com/docs/#observations), a state will be obtained from the environment and it will be given in input to the agent which will produce its action. Then, the action will be passed to the environment which will retirn the reward. This procedure will run until the stop conditions are met.\n",
        "\n",
        "We will use this function for quantitive and qualitative evaluations, but a similar procedure is implemented by the SAC algorithm during training. \n"
      ]
    },
    {
      "cell_type": "code",
      "metadata": {
        "id": "-r-Ass_gNcrN",
        "colab_type": "code",
        "colab": {}
      },
      "source": [
        "import torch\n",
        "\n",
        "def run_episode(agent, env, render=False):\n",
        "    \"\"\"\n",
        "    Given agent and env, runs an episode and returns the obtained rewards\n",
        "\n",
        "    Args:\n",
        "        agent: an object respecting the spinup.sac_pytorch actor_critic parameter\n",
        "        env: a gym environment\n",
        "\n",
        "    Returns:\n",
        "        rewards: list of scalar rewards\n",
        "    \"\"\"\n",
        "    # Empty lists to save rewards\n",
        "    rewards = []        # for rewards\n",
        "\n",
        "    if render:\n",
        "        # Do not need this if you locally run this notebook as a script\n",
        "        env = wrap_env(env)\n",
        "\n",
        "    # Reset environment to the first state\n",
        "    state = env.reset() \n",
        "    done = False            # signal from environment that episode is over\n",
        "\n",
        "    # Run until the episode is finished\n",
        "    while not done:\n",
        "\n",
        "        # Render environment to screen\n",
        "        if render:\n",
        "            env.render()\n",
        "\n",
        "        # Get the action from the agent for the current state\n",
        "        action = agent.act(torch.tensor(state, dtype=torch.float32))\n",
        "        \n",
        "        # Perform action and receive reward and new state\n",
        "        state, reward, done, _ = env.step(action)\n",
        "\n",
        "        # Save reward\n",
        "        rewards.append(reward)\n",
        "\n",
        "    if render:\n",
        "        # Do not need this if you locally run this notebook as a script\n",
        "        env.close()\n",
        "        show_video()\n",
        "\n",
        "    return rewards\n"
      ],
      "execution_count": null,
      "outputs": []
    },
    {
      "cell_type": "markdown",
      "metadata": {
        "id": "5xSot9LXXRg4",
        "colab_type": "text"
      },
      "source": [
        "Let's use `run_episode` to see how the agent performs without training."
      ]
    },
    {
      "cell_type": "code",
      "metadata": {
        "id": "QEEszek5XR1e",
        "colab_type": "code",
        "colab": {}
      },
      "source": [
        "rewards = run_episode(agent, env, render=True)\n",
        "\n",
        "print('R(tau) = {}'.format(sum(rewards)))"
      ],
      "execution_count": null,
      "outputs": []
    },
    {
      "cell_type": "markdown",
      "metadata": {
        "id": "-MUAGDSX-KL2",
        "colab_type": "text"
      },
      "source": [
        "## Training\n",
        "\n",
        "Let's arrive to the actual learning phase!\n",
        "\n",
        "As we said, we will use the Soft Actor-Critic algorithm, which is a state-of-the-art off-policy RL algorithm particularly designed for robotics and control problems. \n",
        "\n",
        "Here are some features:\n",
        "\n",
        "\n",
        "*   Stochastic Policy optimization in an Off-Policy way\n",
        "    - It bridges the sample efficiency of off-policy methods with the stability of policy optimization\n",
        "\n",
        "*   Entropy Regularization\n",
        "    - Maximization of policy entropy for better exploration\n",
        "\n",
        "\n",
        "*   Double Critic trick\n",
        "    - To reduce bias and make learning faster\n",
        "\n",
        "\n",
        "\n",
        "For the details of the algorithm, Spinning Up in Deep RL! gives a [very good tutorial](https://spinningup.openai.com/en/latest/algorithms/sac.html). Here we can have a look to the pseudocode.\n",
        "\n",
        "![alt text](https://imgur.com/oNsh1a8.png)\n"
      ]
    },
    {
      "cell_type": "markdown",
      "metadata": {
        "id": "CyYed8bDAmFD",
        "colab_type": "text"
      },
      "source": [
        "With the `spinup` implementation is just matter of a single statement. If you are interested how it is defined inside, check [here](https://github.com/openai/spinningup/blob/master/spinup/algos/pytorch/sac/sac.py).\n",
        "\n",
        "Now let's train!"
      ]
    },
    {
      "cell_type": "code",
      "metadata": {
        "id": "QXEObBTW3VGi",
        "colab_type": "code",
        "colab": {}
      },
      "source": [
        "from spinup import sac_pytorch\n",
        "\n",
        "sac_pytorch(lambda: gym.make('LunarLanderContinuous-v2'),\n",
        "            actor_critic=MLPActorCritic,\n",
        "            seed=SEED,\n",
        "            epochs=50,\n",
        "            logger_kwargs={'output_dir' : './experiments'})"
      ],
      "execution_count": null,
      "outputs": []
    },
    {
      "cell_type": "markdown",
      "metadata": {
        "id": "_i955PXhoaA_",
        "colab_type": "text"
      },
      "source": [
        "## Evaluating\n",
        "\n",
        "Let's see how our trained agent performs!"
      ]
    },
    {
      "cell_type": "code",
      "metadata": {
        "id": "NLSfnz-5oaci",
        "colab_type": "code",
        "colab": {}
      },
      "source": [
        "agent = torch.load('agent-trained.pt')\n",
        "\n",
        "# Qualitatively evaluate the performance of the agent on 5 episodes\n",
        "for e in range(5):\n",
        "    rewards = run_episode(agent, env, render=True)\n",
        "\n",
        "    R = sum(rewards)\n",
        "\n",
        "    print('Test episode {} - R(tau) = {}'.format(e, R))"
      ],
      "execution_count": null,
      "outputs": []
    },
    {
      "cell_type": "markdown",
      "metadata": {
        "id": "qN8w0afbNpST",
        "colab_type": "text"
      },
      "source": [
        "Not bad!"
      ]
    }
  ]
}